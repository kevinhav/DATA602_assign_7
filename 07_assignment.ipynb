{
  "cells": [
    {
      "cell_type": "markdown",
      "metadata": {
        "colab_type": "text",
        "id": "view-in-github"
      },
      "source": [
        "<a href=\"https://colab.research.google.com/github/data602sps/datasetspractice/blob/main/07_assignment.ipynb\" target=\"_parent\"><img src=\"https://colab.research.google.com/assets/colab-badge.svg\" alt=\"Open In Colab\"/></a>"
      ]
    },
    {
      "cell_type": "markdown",
      "metadata": {
        "id": "rd2QZetSDszc"
      },
      "source": [
        "# **Assignment 7**\n",
        "\n",
        "# **Weeks 8 & 9 - Pandas**\n",
        "* In this homework assignment, you will explore and analyze a public dataset of your choosing. Since this assignment is “open-ended” in nature, you are free to expand upon the requirements below. However, you must meet the minimum requirments as indicated in each section. \n",
        "\n",
        "* You must use Pandas as the **primary tool** to process your data.\n",
        "\n",
        "* The preferred method for this analysis is in a .ipynb file. Feel free to use whichever platform of your choosing.  \n",
        " * https://www.youtube.com/watch?v=inN8seMm7UI (Getting started with Colab).\n",
        "\n",
        "* Your data should need some \"work\", or be considered \"dirty\".  You must show your skills in data cleaning/wrangling.\n",
        "\n",
        "### **Some data examples:**\n",
        "•\thttps://www.data.gov/\n",
        "\n",
        "•\thttps://opendata.cityofnewyork.us/\n",
        "\n",
        "•\thttps://datasetsearch.research.google.com/\n",
        "\n",
        "•\thttps://archive.ics.uci.edu/ml/index.php\n",
        "\n",
        "### **Resources:**\n",
        "\n",
        "•\thttps://pandas.pydata.org/pandas-docs/stable/getting_started/10min.html \n",
        "\n",
        "•\thttps://pandas.pydata.org/pandas-docs/stable/user_guide/visualization.html\n",
        "\n",
        "\n",
        "### **Headings or comments**\n",
        "**You are required to make use of comments, or headings for each section.  You must explain what your code is doing, and the results of running your code.**  Act as if you were giving this assignment to your manager - you must include clear and descriptive information for each section.\n",
        "\n",
        "### **You may work as a group or indivdually on this assignment.**\n"
      ]
    },
    {
      "cell_type": "markdown",
      "metadata": {
        "id": "uW3w6p8rqgxu"
      },
      "source": [
        "# Introduction\n",
        "\n",
        "In this section, please describe the dataset you are using.  Include a link to the source of this data.  You should also provide some explanation on why you choose this dataset."
      ]
    },
    {
      "cell_type": "markdown",
      "metadata": {
        "id": "L0PnfMOFzOXz"
      },
      "source": [
        "I chose the `weather.csv` file that was included with the assignment. This seemed to have a good mix of data types, especially datetime, which is likely the most challenging data type to work with."
      ]
    },
    {
      "cell_type": "markdown",
      "metadata": {
        "id": "3bp8cdDxDs2t"
      },
      "source": [
        "______________\n",
        "# Data Exploration\n",
        "Import your dataset into your .ipynb, create dataframes, and explore your data.  \n",
        "\n",
        "Include: \n",
        "\n",
        "* Summary statistics means, medians, quartiles, \n",
        "* Missing value information\n",
        "* Any other relevant information about the dataset.  \n",
        "\n"
      ]
    },
    {
      "cell_type": "code",
      "execution_count": 101,
      "metadata": {
        "id": "1OJmbafkEhhq"
      },
      "outputs": [],
      "source": [
        "import pandas as pd\n",
        "import datetime"
      ]
    },
    {
      "cell_type": "code",
      "execution_count": 102,
      "metadata": {
        "id": "b0WTKtqozNn1"
      },
      "outputs": [
        {
          "data": {
            "application/vnd.microsoft.datawrangler.viewer.v0+json": {
              "columns": [
                {
                  "name": "index",
                  "rawType": "int64",
                  "type": "integer"
                },
                {
                  "name": "Unnamed: 0",
                  "rawType": "int64",
                  "type": "integer"
                },
                {
                  "name": "origin",
                  "rawType": "object",
                  "type": "string"
                },
                {
                  "name": "year",
                  "rawType": "int64",
                  "type": "integer"
                },
                {
                  "name": "month",
                  "rawType": "float64",
                  "type": "float"
                },
                {
                  "name": "day",
                  "rawType": "float64",
                  "type": "float"
                },
                {
                  "name": "hour",
                  "rawType": "float64",
                  "type": "float"
                },
                {
                  "name": "temp",
                  "rawType": "float64",
                  "type": "float"
                },
                {
                  "name": "dewp",
                  "rawType": "float64",
                  "type": "float"
                },
                {
                  "name": "humid",
                  "rawType": "float64",
                  "type": "float"
                },
                {
                  "name": "wind_dir",
                  "rawType": "float64",
                  "type": "float"
                },
                {
                  "name": "wind_speed",
                  "rawType": "float64",
                  "type": "float"
                },
                {
                  "name": "wind_gust",
                  "rawType": "float64",
                  "type": "float"
                },
                {
                  "name": "precip",
                  "rawType": "float64",
                  "type": "float"
                },
                {
                  "name": "pressure",
                  "rawType": "float64",
                  "type": "float"
                },
                {
                  "name": "visib",
                  "rawType": "float64",
                  "type": "float"
                }
              ],
              "conversionMethod": "pd.DataFrame",
              "ref": "04558ba6-b5d9-4d8e-b326-456e0568fc77",
              "rows": [
                [
                  "0",
                  "1",
                  "EWR",
                  "2013",
                  "1.0",
                  "1.0",
                  "0.0",
                  "37.04",
                  "21.92",
                  "53.97",
                  "230.0",
                  "10.35702",
                  "11.9186514756",
                  "0.0",
                  "1013.9",
                  "10.0"
                ],
                [
                  "1",
                  "2",
                  "EWR",
                  "2013",
                  "1.0",
                  "1.0",
                  "1.0",
                  "37.04",
                  "21.92",
                  "53.97",
                  "230.0",
                  "13.80936",
                  "15.8915353008",
                  "0.0",
                  "1013.0",
                  "10.0"
                ],
                [
                  "2",
                  "3",
                  "EWR",
                  "2013",
                  "1.0",
                  "1.0",
                  "2.0",
                  "37.94",
                  "21.92",
                  "52.09",
                  "230.0",
                  "12.65858",
                  "14.5672406924",
                  "0.0",
                  "1012.6",
                  "10.0"
                ],
                [
                  "3",
                  "4",
                  "EWR",
                  "2013",
                  "1.0",
                  "1.0",
                  "3.0",
                  "37.94",
                  "23.0",
                  "54.51",
                  "230.0",
                  "13.80936",
                  "15.8915353008",
                  "0.0",
                  "1012.7",
                  "10.0"
                ],
                [
                  "4",
                  "5",
                  "EWR",
                  "2013",
                  "1.0",
                  "1.0",
                  "4.0",
                  "37.94",
                  "24.08",
                  "57.04",
                  "240.0",
                  "14.96014",
                  "17.2158299092",
                  "0.0",
                  "1012.8",
                  "10.0"
                ]
              ],
              "shape": {
                "columns": 15,
                "rows": 5
              }
            },
            "text/html": [
              "<div>\n",
              "<style scoped>\n",
              "    .dataframe tbody tr th:only-of-type {\n",
              "        vertical-align: middle;\n",
              "    }\n",
              "\n",
              "    .dataframe tbody tr th {\n",
              "        vertical-align: top;\n",
              "    }\n",
              "\n",
              "    .dataframe thead th {\n",
              "        text-align: right;\n",
              "    }\n",
              "</style>\n",
              "<table border=\"1\" class=\"dataframe\">\n",
              "  <thead>\n",
              "    <tr style=\"text-align: right;\">\n",
              "      <th></th>\n",
              "      <th>Unnamed: 0</th>\n",
              "      <th>origin</th>\n",
              "      <th>year</th>\n",
              "      <th>month</th>\n",
              "      <th>day</th>\n",
              "      <th>hour</th>\n",
              "      <th>temp</th>\n",
              "      <th>dewp</th>\n",
              "      <th>humid</th>\n",
              "      <th>wind_dir</th>\n",
              "      <th>wind_speed</th>\n",
              "      <th>wind_gust</th>\n",
              "      <th>precip</th>\n",
              "      <th>pressure</th>\n",
              "      <th>visib</th>\n",
              "    </tr>\n",
              "  </thead>\n",
              "  <tbody>\n",
              "    <tr>\n",
              "      <th>0</th>\n",
              "      <td>1</td>\n",
              "      <td>EWR</td>\n",
              "      <td>2013</td>\n",
              "      <td>1.0</td>\n",
              "      <td>1.0</td>\n",
              "      <td>0.0</td>\n",
              "      <td>37.04</td>\n",
              "      <td>21.92</td>\n",
              "      <td>53.97</td>\n",
              "      <td>230.0</td>\n",
              "      <td>10.35702</td>\n",
              "      <td>11.918651</td>\n",
              "      <td>0.0</td>\n",
              "      <td>1013.9</td>\n",
              "      <td>10.0</td>\n",
              "    </tr>\n",
              "    <tr>\n",
              "      <th>1</th>\n",
              "      <td>2</td>\n",
              "      <td>EWR</td>\n",
              "      <td>2013</td>\n",
              "      <td>1.0</td>\n",
              "      <td>1.0</td>\n",
              "      <td>1.0</td>\n",
              "      <td>37.04</td>\n",
              "      <td>21.92</td>\n",
              "      <td>53.97</td>\n",
              "      <td>230.0</td>\n",
              "      <td>13.80936</td>\n",
              "      <td>15.891535</td>\n",
              "      <td>0.0</td>\n",
              "      <td>1013.0</td>\n",
              "      <td>10.0</td>\n",
              "    </tr>\n",
              "    <tr>\n",
              "      <th>2</th>\n",
              "      <td>3</td>\n",
              "      <td>EWR</td>\n",
              "      <td>2013</td>\n",
              "      <td>1.0</td>\n",
              "      <td>1.0</td>\n",
              "      <td>2.0</td>\n",
              "      <td>37.94</td>\n",
              "      <td>21.92</td>\n",
              "      <td>52.09</td>\n",
              "      <td>230.0</td>\n",
              "      <td>12.65858</td>\n",
              "      <td>14.567241</td>\n",
              "      <td>0.0</td>\n",
              "      <td>1012.6</td>\n",
              "      <td>10.0</td>\n",
              "    </tr>\n",
              "    <tr>\n",
              "      <th>3</th>\n",
              "      <td>4</td>\n",
              "      <td>EWR</td>\n",
              "      <td>2013</td>\n",
              "      <td>1.0</td>\n",
              "      <td>1.0</td>\n",
              "      <td>3.0</td>\n",
              "      <td>37.94</td>\n",
              "      <td>23.00</td>\n",
              "      <td>54.51</td>\n",
              "      <td>230.0</td>\n",
              "      <td>13.80936</td>\n",
              "      <td>15.891535</td>\n",
              "      <td>0.0</td>\n",
              "      <td>1012.7</td>\n",
              "      <td>10.0</td>\n",
              "    </tr>\n",
              "    <tr>\n",
              "      <th>4</th>\n",
              "      <td>5</td>\n",
              "      <td>EWR</td>\n",
              "      <td>2013</td>\n",
              "      <td>1.0</td>\n",
              "      <td>1.0</td>\n",
              "      <td>4.0</td>\n",
              "      <td>37.94</td>\n",
              "      <td>24.08</td>\n",
              "      <td>57.04</td>\n",
              "      <td>240.0</td>\n",
              "      <td>14.96014</td>\n",
              "      <td>17.215830</td>\n",
              "      <td>0.0</td>\n",
              "      <td>1012.8</td>\n",
              "      <td>10.0</td>\n",
              "    </tr>\n",
              "  </tbody>\n",
              "</table>\n",
              "</div>"
            ],
            "text/plain": [
              "   Unnamed: 0 origin  year  month  day  hour   temp   dewp  humid  wind_dir  \\\n",
              "0           1    EWR  2013    1.0  1.0   0.0  37.04  21.92  53.97     230.0   \n",
              "1           2    EWR  2013    1.0  1.0   1.0  37.04  21.92  53.97     230.0   \n",
              "2           3    EWR  2013    1.0  1.0   2.0  37.94  21.92  52.09     230.0   \n",
              "3           4    EWR  2013    1.0  1.0   3.0  37.94  23.00  54.51     230.0   \n",
              "4           5    EWR  2013    1.0  1.0   4.0  37.94  24.08  57.04     240.0   \n",
              "\n",
              "   wind_speed  wind_gust  precip  pressure  visib  \n",
              "0    10.35702  11.918651     0.0    1013.9   10.0  \n",
              "1    13.80936  15.891535     0.0    1013.0   10.0  \n",
              "2    12.65858  14.567241     0.0    1012.6   10.0  \n",
              "3    13.80936  15.891535     0.0    1012.7   10.0  \n",
              "4    14.96014  17.215830     0.0    1012.8   10.0  "
            ]
          },
          "execution_count": 102,
          "metadata": {},
          "output_type": "execute_result"
        }
      ],
      "source": [
        "# Read in data\n",
        "df = pd.read_csv('weather.csv')\n",
        "df.head()"
      ]
    },
    {
      "cell_type": "code",
      "execution_count": 103,
      "metadata": {},
      "outputs": [
        {
          "data": {
            "application/vnd.microsoft.datawrangler.viewer.v0+json": {
              "columns": [
                {
                  "name": "index",
                  "rawType": "object",
                  "type": "string"
                },
                {
                  "name": "Unnamed: 0",
                  "rawType": "float64",
                  "type": "float"
                },
                {
                  "name": "origin",
                  "rawType": "object",
                  "type": "unknown"
                },
                {
                  "name": "year",
                  "rawType": "float64",
                  "type": "float"
                },
                {
                  "name": "month",
                  "rawType": "float64",
                  "type": "float"
                },
                {
                  "name": "day",
                  "rawType": "float64",
                  "type": "float"
                },
                {
                  "name": "hour",
                  "rawType": "float64",
                  "type": "float"
                },
                {
                  "name": "temp",
                  "rawType": "float64",
                  "type": "float"
                },
                {
                  "name": "dewp",
                  "rawType": "float64",
                  "type": "float"
                },
                {
                  "name": "humid",
                  "rawType": "float64",
                  "type": "float"
                },
                {
                  "name": "wind_dir",
                  "rawType": "float64",
                  "type": "float"
                },
                {
                  "name": "wind_speed",
                  "rawType": "float64",
                  "type": "float"
                },
                {
                  "name": "wind_gust",
                  "rawType": "float64",
                  "type": "float"
                },
                {
                  "name": "precip",
                  "rawType": "float64",
                  "type": "float"
                },
                {
                  "name": "pressure",
                  "rawType": "float64",
                  "type": "float"
                },
                {
                  "name": "visib",
                  "rawType": "float64",
                  "type": "float"
                }
              ],
              "conversionMethod": "pd.DataFrame",
              "ref": "c00b366a-d5fc-42a6-9e1e-74183911a0e9",
              "rows": [
                [
                  "count",
                  "8719.0",
                  "8719",
                  "8719.0",
                  "8718.0",
                  "8718.0",
                  "8718.0",
                  "8718.0",
                  "8718.0",
                  "8718.0",
                  "8486.0",
                  "8718.0",
                  "8718.0",
                  "8719.0",
                  "7780.0",
                  "8719.0"
                ],
                [
                  "unique",
                  null,
                  "3",
                  null,
                  null,
                  null,
                  null,
                  null,
                  null,
                  null,
                  null,
                  null,
                  null,
                  null,
                  null,
                  null
                ],
                [
                  "top",
                  null,
                  "EWR",
                  null,
                  null,
                  null,
                  null,
                  null,
                  null,
                  null,
                  null,
                  null,
                  null,
                  null,
                  null,
                  null
                ],
                [
                  "freq",
                  null,
                  "8709",
                  null,
                  null,
                  null,
                  null,
                  null,
                  null,
                  null,
                  null,
                  null,
                  null,
                  null,
                  null,
                  null
                ],
                [
                  "mean",
                  "4360.0",
                  null,
                  "2013.0",
                  "6.5065381968341365",
                  "15.679628355127322",
                  "11.51571461344345",
                  "55.48494150034412",
                  "41.79418444597385",
                  "62.86333333333334",
                  "193.19467358001415",
                  "9.335732450103235",
                  "10.743374188929801",
                  "0.003034751691707765",
                  "1017.8264652956298",
                  "9.224522307604083"
                ],
                [
                  "std",
                  "2517.1028319611155",
                  null,
                  "0.0",
                  "3.4399605840571743",
                  "8.768249962810867",
                  "6.916846169907353",
                  "18.3458168109631",
                  "19.619776000736575",
                  "19.572699110748758",
                  "110.54133280367869",
                  "12.328261405254086",
                  "14.1871166599383",
                  "0.022686358235574546",
                  "7.396722440792989",
                  "2.0940437764346256"
                ],
                [
                  "min",
                  "1.0",
                  null,
                  "2013.0",
                  "1.0",
                  "1.0",
                  "0.0",
                  "10.94",
                  "-9.04",
                  "13.95",
                  "0.0",
                  "0.0",
                  "0.0",
                  "0.0",
                  "983.9",
                  "0.12"
                ],
                [
                  "25%",
                  "2180.5",
                  null,
                  "2013.0",
                  "4.0",
                  "8.0",
                  "6.0",
                  "39.92",
                  "26.06",
                  "47.602500000000006",
                  "110.0",
                  "5.7539",
                  "6.621473042",
                  "0.0",
                  "1012.8",
                  "10.0"
                ],
                [
                  "50%",
                  "4360.0",
                  null,
                  "2013.0",
                  "7.0",
                  "16.0",
                  "12.0",
                  "55.94",
                  "42.8",
                  "62.33",
                  "220.0",
                  "9.20624",
                  "10.5943568672",
                  "0.0",
                  "1017.5",
                  "10.0"
                ],
                [
                  "75%",
                  "6539.5",
                  null,
                  "2013.0",
                  "9.0",
                  "23.0",
                  "18.0",
                  "71.06",
                  "57.92",
                  "78.79",
                  "280.0",
                  "12.65858",
                  "14.5672406924",
                  "0.0",
                  "1022.9",
                  "10.0"
                ],
                [
                  "max",
                  "8719.0",
                  null,
                  "2013.0",
                  "12.0",
                  "31.0",
                  "23.0",
                  "100.04",
                  "75.92",
                  "100.0",
                  "360.0",
                  "1048.36058",
                  "1206.4323882524",
                  "1.18",
                  "1041.9",
                  "10.0"
                ]
              ],
              "shape": {
                "columns": 15,
                "rows": 11
              }
            },
            "text/html": [
              "<div>\n",
              "<style scoped>\n",
              "    .dataframe tbody tr th:only-of-type {\n",
              "        vertical-align: middle;\n",
              "    }\n",
              "\n",
              "    .dataframe tbody tr th {\n",
              "        vertical-align: top;\n",
              "    }\n",
              "\n",
              "    .dataframe thead th {\n",
              "        text-align: right;\n",
              "    }\n",
              "</style>\n",
              "<table border=\"1\" class=\"dataframe\">\n",
              "  <thead>\n",
              "    <tr style=\"text-align: right;\">\n",
              "      <th></th>\n",
              "      <th>Unnamed: 0</th>\n",
              "      <th>origin</th>\n",
              "      <th>year</th>\n",
              "      <th>month</th>\n",
              "      <th>day</th>\n",
              "      <th>hour</th>\n",
              "      <th>temp</th>\n",
              "      <th>dewp</th>\n",
              "      <th>humid</th>\n",
              "      <th>wind_dir</th>\n",
              "      <th>wind_speed</th>\n",
              "      <th>wind_gust</th>\n",
              "      <th>precip</th>\n",
              "      <th>pressure</th>\n",
              "      <th>visib</th>\n",
              "    </tr>\n",
              "  </thead>\n",
              "  <tbody>\n",
              "    <tr>\n",
              "      <th>count</th>\n",
              "      <td>8719.000000</td>\n",
              "      <td>8719</td>\n",
              "      <td>8719.0</td>\n",
              "      <td>8718.000000</td>\n",
              "      <td>8718.000000</td>\n",
              "      <td>8718.000000</td>\n",
              "      <td>8718.000000</td>\n",
              "      <td>8718.000000</td>\n",
              "      <td>8718.000000</td>\n",
              "      <td>8486.000000</td>\n",
              "      <td>8718.000000</td>\n",
              "      <td>8718.000000</td>\n",
              "      <td>8719.000000</td>\n",
              "      <td>7780.000000</td>\n",
              "      <td>8719.000000</td>\n",
              "    </tr>\n",
              "    <tr>\n",
              "      <th>unique</th>\n",
              "      <td>NaN</td>\n",
              "      <td>3</td>\n",
              "      <td>NaN</td>\n",
              "      <td>NaN</td>\n",
              "      <td>NaN</td>\n",
              "      <td>NaN</td>\n",
              "      <td>NaN</td>\n",
              "      <td>NaN</td>\n",
              "      <td>NaN</td>\n",
              "      <td>NaN</td>\n",
              "      <td>NaN</td>\n",
              "      <td>NaN</td>\n",
              "      <td>NaN</td>\n",
              "      <td>NaN</td>\n",
              "      <td>NaN</td>\n",
              "    </tr>\n",
              "    <tr>\n",
              "      <th>top</th>\n",
              "      <td>NaN</td>\n",
              "      <td>EWR</td>\n",
              "      <td>NaN</td>\n",
              "      <td>NaN</td>\n",
              "      <td>NaN</td>\n",
              "      <td>NaN</td>\n",
              "      <td>NaN</td>\n",
              "      <td>NaN</td>\n",
              "      <td>NaN</td>\n",
              "      <td>NaN</td>\n",
              "      <td>NaN</td>\n",
              "      <td>NaN</td>\n",
              "      <td>NaN</td>\n",
              "      <td>NaN</td>\n",
              "      <td>NaN</td>\n",
              "    </tr>\n",
              "    <tr>\n",
              "      <th>freq</th>\n",
              "      <td>NaN</td>\n",
              "      <td>8709</td>\n",
              "      <td>NaN</td>\n",
              "      <td>NaN</td>\n",
              "      <td>NaN</td>\n",
              "      <td>NaN</td>\n",
              "      <td>NaN</td>\n",
              "      <td>NaN</td>\n",
              "      <td>NaN</td>\n",
              "      <td>NaN</td>\n",
              "      <td>NaN</td>\n",
              "      <td>NaN</td>\n",
              "      <td>NaN</td>\n",
              "      <td>NaN</td>\n",
              "      <td>NaN</td>\n",
              "    </tr>\n",
              "    <tr>\n",
              "      <th>mean</th>\n",
              "      <td>4360.000000</td>\n",
              "      <td>NaN</td>\n",
              "      <td>2013.0</td>\n",
              "      <td>6.506538</td>\n",
              "      <td>15.679628</td>\n",
              "      <td>11.515715</td>\n",
              "      <td>55.484942</td>\n",
              "      <td>41.794184</td>\n",
              "      <td>62.863333</td>\n",
              "      <td>193.194674</td>\n",
              "      <td>9.335732</td>\n",
              "      <td>10.743374</td>\n",
              "      <td>0.003035</td>\n",
              "      <td>1017.826465</td>\n",
              "      <td>9.224522</td>\n",
              "    </tr>\n",
              "    <tr>\n",
              "      <th>std</th>\n",
              "      <td>2517.102832</td>\n",
              "      <td>NaN</td>\n",
              "      <td>0.0</td>\n",
              "      <td>3.439961</td>\n",
              "      <td>8.768250</td>\n",
              "      <td>6.916846</td>\n",
              "      <td>18.345817</td>\n",
              "      <td>19.619776</td>\n",
              "      <td>19.572699</td>\n",
              "      <td>110.541333</td>\n",
              "      <td>12.328261</td>\n",
              "      <td>14.187117</td>\n",
              "      <td>0.022686</td>\n",
              "      <td>7.396722</td>\n",
              "      <td>2.094044</td>\n",
              "    </tr>\n",
              "    <tr>\n",
              "      <th>min</th>\n",
              "      <td>1.000000</td>\n",
              "      <td>NaN</td>\n",
              "      <td>2013.0</td>\n",
              "      <td>1.000000</td>\n",
              "      <td>1.000000</td>\n",
              "      <td>0.000000</td>\n",
              "      <td>10.940000</td>\n",
              "      <td>-9.040000</td>\n",
              "      <td>13.950000</td>\n",
              "      <td>0.000000</td>\n",
              "      <td>0.000000</td>\n",
              "      <td>0.000000</td>\n",
              "      <td>0.000000</td>\n",
              "      <td>983.900000</td>\n",
              "      <td>0.120000</td>\n",
              "    </tr>\n",
              "    <tr>\n",
              "      <th>25%</th>\n",
              "      <td>2180.500000</td>\n",
              "      <td>NaN</td>\n",
              "      <td>2013.0</td>\n",
              "      <td>4.000000</td>\n",
              "      <td>8.000000</td>\n",
              "      <td>6.000000</td>\n",
              "      <td>39.920000</td>\n",
              "      <td>26.060000</td>\n",
              "      <td>47.602500</td>\n",
              "      <td>110.000000</td>\n",
              "      <td>5.753900</td>\n",
              "      <td>6.621473</td>\n",
              "      <td>0.000000</td>\n",
              "      <td>1012.800000</td>\n",
              "      <td>10.000000</td>\n",
              "    </tr>\n",
              "    <tr>\n",
              "      <th>50%</th>\n",
              "      <td>4360.000000</td>\n",
              "      <td>NaN</td>\n",
              "      <td>2013.0</td>\n",
              "      <td>7.000000</td>\n",
              "      <td>16.000000</td>\n",
              "      <td>12.000000</td>\n",
              "      <td>55.940000</td>\n",
              "      <td>42.800000</td>\n",
              "      <td>62.330000</td>\n",
              "      <td>220.000000</td>\n",
              "      <td>9.206240</td>\n",
              "      <td>10.594357</td>\n",
              "      <td>0.000000</td>\n",
              "      <td>1017.500000</td>\n",
              "      <td>10.000000</td>\n",
              "    </tr>\n",
              "    <tr>\n",
              "      <th>75%</th>\n",
              "      <td>6539.500000</td>\n",
              "      <td>NaN</td>\n",
              "      <td>2013.0</td>\n",
              "      <td>9.000000</td>\n",
              "      <td>23.000000</td>\n",
              "      <td>18.000000</td>\n",
              "      <td>71.060000</td>\n",
              "      <td>57.920000</td>\n",
              "      <td>78.790000</td>\n",
              "      <td>280.000000</td>\n",
              "      <td>12.658580</td>\n",
              "      <td>14.567241</td>\n",
              "      <td>0.000000</td>\n",
              "      <td>1022.900000</td>\n",
              "      <td>10.000000</td>\n",
              "    </tr>\n",
              "    <tr>\n",
              "      <th>max</th>\n",
              "      <td>8719.000000</td>\n",
              "      <td>NaN</td>\n",
              "      <td>2013.0</td>\n",
              "      <td>12.000000</td>\n",
              "      <td>31.000000</td>\n",
              "      <td>23.000000</td>\n",
              "      <td>100.040000</td>\n",
              "      <td>75.920000</td>\n",
              "      <td>100.000000</td>\n",
              "      <td>360.000000</td>\n",
              "      <td>1048.360580</td>\n",
              "      <td>1206.432388</td>\n",
              "      <td>1.180000</td>\n",
              "      <td>1041.900000</td>\n",
              "      <td>10.000000</td>\n",
              "    </tr>\n",
              "  </tbody>\n",
              "</table>\n",
              "</div>"
            ],
            "text/plain": [
              "         Unnamed: 0 origin    year        month          day         hour  \\\n",
              "count   8719.000000   8719  8719.0  8718.000000  8718.000000  8718.000000   \n",
              "unique          NaN      3     NaN          NaN          NaN          NaN   \n",
              "top             NaN    EWR     NaN          NaN          NaN          NaN   \n",
              "freq            NaN   8709     NaN          NaN          NaN          NaN   \n",
              "mean    4360.000000    NaN  2013.0     6.506538    15.679628    11.515715   \n",
              "std     2517.102832    NaN     0.0     3.439961     8.768250     6.916846   \n",
              "min        1.000000    NaN  2013.0     1.000000     1.000000     0.000000   \n",
              "25%     2180.500000    NaN  2013.0     4.000000     8.000000     6.000000   \n",
              "50%     4360.000000    NaN  2013.0     7.000000    16.000000    12.000000   \n",
              "75%     6539.500000    NaN  2013.0     9.000000    23.000000    18.000000   \n",
              "max     8719.000000    NaN  2013.0    12.000000    31.000000    23.000000   \n",
              "\n",
              "               temp         dewp        humid     wind_dir   wind_speed  \\\n",
              "count   8718.000000  8718.000000  8718.000000  8486.000000  8718.000000   \n",
              "unique          NaN          NaN          NaN          NaN          NaN   \n",
              "top             NaN          NaN          NaN          NaN          NaN   \n",
              "freq            NaN          NaN          NaN          NaN          NaN   \n",
              "mean      55.484942    41.794184    62.863333   193.194674     9.335732   \n",
              "std       18.345817    19.619776    19.572699   110.541333    12.328261   \n",
              "min       10.940000    -9.040000    13.950000     0.000000     0.000000   \n",
              "25%       39.920000    26.060000    47.602500   110.000000     5.753900   \n",
              "50%       55.940000    42.800000    62.330000   220.000000     9.206240   \n",
              "75%       71.060000    57.920000    78.790000   280.000000    12.658580   \n",
              "max      100.040000    75.920000   100.000000   360.000000  1048.360580   \n",
              "\n",
              "          wind_gust       precip     pressure        visib  \n",
              "count   8718.000000  8719.000000  7780.000000  8719.000000  \n",
              "unique          NaN          NaN          NaN          NaN  \n",
              "top             NaN          NaN          NaN          NaN  \n",
              "freq            NaN          NaN          NaN          NaN  \n",
              "mean      10.743374     0.003035  1017.826465     9.224522  \n",
              "std       14.187117     0.022686     7.396722     2.094044  \n",
              "min        0.000000     0.000000   983.900000     0.120000  \n",
              "25%        6.621473     0.000000  1012.800000    10.000000  \n",
              "50%       10.594357     0.000000  1017.500000    10.000000  \n",
              "75%       14.567241     0.000000  1022.900000    10.000000  \n",
              "max     1206.432388     1.180000  1041.900000    10.000000  "
            ]
          },
          "execution_count": 103,
          "metadata": {},
          "output_type": "execute_result"
        }
      ],
      "source": [
        "# Show a summary of the dataset\n",
        "df.describe(include='all')"
      ]
    },
    {
      "cell_type": "code",
      "execution_count": 104,
      "metadata": {},
      "outputs": [
        {
          "data": {
            "text/plain": [
              "Unnamed: 0      0\n",
              "origin          0\n",
              "year            0\n",
              "month           1\n",
              "day             1\n",
              "hour            1\n",
              "temp            1\n",
              "dewp            1\n",
              "humid           1\n",
              "wind_dir      233\n",
              "wind_speed      1\n",
              "wind_gust       1\n",
              "precip          0\n",
              "pressure      939\n",
              "visib           0\n",
              "dtype: int64"
            ]
          },
          "execution_count": 104,
          "metadata": {},
          "output_type": "execute_result"
        }
      ],
      "source": [
        "# Check for nulls\n",
        "df.isna().sum()"
      ]
    },
    {
      "cell_type": "markdown",
      "metadata": {
        "id": "kCSLIafaEGVK"
      },
      "source": [
        "# Data Wrangling\n",
        "Create a subset of your original data and perform the following.  \n",
        "\n",
        "1. Modify multiple column names.\n",
        "\n",
        "2. Look at the structure of your data – are any variables improperly coded? Such as strings or characters? Convert to correct structure if needed.\n",
        "\n",
        "3. Fix missing and invalid values in data.\n",
        "\n",
        "4. Create new columns based on existing columns or calculations.\n",
        "\n",
        "5. Drop column(s) from your dataset.\n",
        "\n",
        "6. Drop a row(s) from your dataset.\n",
        "\n",
        "7. Sort your data based on multiple variables. \n",
        "\n",
        "8. Filter your data based on some condition. \n",
        "\n",
        "9. Convert all the string values to upper or lower cases in one column.\n",
        "\n",
        "10. Check whether numeric values are present in a given column of your dataframe.\n",
        "\n",
        "11. Group your dataset by one column, and get the mean, min, and max values by group. \n",
        "  * Groupby()\n",
        "  * agg() or .apply()\n",
        "\n",
        "12. Group your dataset by two columns and then sort the aggregated results within the groups. \n",
        "\n",
        "**You are free (and should) to add on to these questions.  Please clearly indicate in your assignment your answers to these questions.**"
      ]
    },
    {
      "cell_type": "code",
      "execution_count": 105,
      "metadata": {},
      "outputs": [
        {
          "name": "stdout",
          "output_type": "stream",
          "text": [
            "Index(['Unnamed: 0', 'origin', 'year', 'month', 'day', 'hour', 'temp', 'dewp',\n",
            "       'humid', 'wind_dir', 'wind_speed', 'wind_gust', 'precip', 'pressure',\n",
            "       'visib'],\n",
            "      dtype='object')\n"
          ]
        }
      ],
      "source": [
        "# Data cleaning\n",
        "print(df.columns)\n",
        "\n",
        "# Drop duplicate index\n",
        "if 'Unnamed: 0' in df.columns:\n",
        "    df.drop('Unnamed: 0', axis=1, inplace=True)"
      ]
    },
    {
      "cell_type": "code",
      "execution_count": 106,
      "metadata": {},
      "outputs": [
        {
          "data": {
            "text/plain": [
              "origin          0\n",
              "year            0\n",
              "month           0\n",
              "day             0\n",
              "hour            0\n",
              "temp            0\n",
              "dewp            0\n",
              "humid           0\n",
              "wind_dir      232\n",
              "wind_speed      0\n",
              "wind_gust       0\n",
              "precip          0\n",
              "pressure      938\n",
              "visib           0\n",
              "dtype: int64"
            ]
          },
          "execution_count": 106,
          "metadata": {},
          "output_type": "execute_result"
        }
      ],
      "source": [
        "# drop NA columns in datetime columns\n",
        "datetime_cols = ['year', 'month', 'day', 'hour']\n",
        "\n",
        "df.dropna(subset=datetime_cols, inplace=True)\n",
        "\n",
        "# Drop the few days with missing metrics\n",
        "\n",
        "df.dropna(subset=['temp', 'wind_speed', 'wind_gust'], inplace=True)\n",
        "\n",
        "df.isna().sum()\n"
      ]
    },
    {
      "cell_type": "code",
      "execution_count": null,
      "metadata": {},
      "outputs": [
        {
          "name": "stderr",
          "output_type": "stream",
          "text": [
            "/var/folders/7_/3jtyrt0n1w9_jssp00807w2h0000gn/T/ipykernel_88599/1340192392.py:6: FutureWarning: A value is trying to be set on a copy of a DataFrame or Series through chained assignment using an inplace method.\n",
            "The behavior will change in pandas 3.0. This inplace method will never work because the intermediate object on which we are setting values always behaves as a copy.\n",
            "\n",
            "For example, when doing 'df[col].method(value, inplace=True)', try using 'df.method({col: value}, inplace=True)' or df[col] = df[col].method(value) instead, to perform the operation inplace on the original object.\n",
            "\n",
            "\n",
            "  df[col].fillna(value=df[col].mean(), inplace=True)\n"
          ]
        },
        {
          "data": {
            "text/plain": [
              "origin        0\n",
              "year          0\n",
              "month         0\n",
              "day           0\n",
              "hour          0\n",
              "temp          0\n",
              "dewp          0\n",
              "humid         0\n",
              "wind_dir      0\n",
              "wind_speed    0\n",
              "wind_gust     0\n",
              "precip        0\n",
              "pressure      0\n",
              "visib         0\n",
              "dtype: int64"
            ]
          },
          "execution_count": 107,
          "metadata": {},
          "output_type": "execute_result"
        }
      ],
      "source": [
        "# Interpolate NAs for values with significant gaps\n",
        "\n",
        "fill_cols = ['wind_dir','pressure']\n",
        "\n",
        "for col in fill_cols:\n",
        "    df[col].fillna(value=df[col].mean(), inplace=True) # We use mean as stddev is low\n",
        "\n",
        "df.isna().sum()\n"
      ]
    },
    {
      "cell_type": "code",
      "execution_count": 108,
      "metadata": {
        "id": "4VWWvvynEiQT"
      },
      "outputs": [
        {
          "data": {
            "application/vnd.microsoft.datawrangler.viewer.v0+json": {
              "columns": [
                {
                  "name": "index",
                  "rawType": "int64",
                  "type": "integer"
                },
                {
                  "name": "origin",
                  "rawType": "object",
                  "type": "string"
                },
                {
                  "name": "temp",
                  "rawType": "float64",
                  "type": "float"
                },
                {
                  "name": "dewp",
                  "rawType": "float64",
                  "type": "float"
                },
                {
                  "name": "humid",
                  "rawType": "float64",
                  "type": "float"
                },
                {
                  "name": "wind_dir",
                  "rawType": "float64",
                  "type": "float"
                },
                {
                  "name": "wind_speed",
                  "rawType": "float64",
                  "type": "float"
                },
                {
                  "name": "wind_gust",
                  "rawType": "float64",
                  "type": "float"
                },
                {
                  "name": "precip",
                  "rawType": "float64",
                  "type": "float"
                },
                {
                  "name": "pressure",
                  "rawType": "float64",
                  "type": "float"
                },
                {
                  "name": "visib",
                  "rawType": "float64",
                  "type": "float"
                },
                {
                  "name": "date",
                  "rawType": "datetime64[ns]",
                  "type": "datetime"
                }
              ],
              "conversionMethod": "pd.DataFrame",
              "ref": "66bf4f97-ab01-48b8-9d66-5422dfc5ae5b",
              "rows": [
                [
                  "0",
                  "EWR",
                  "37.04",
                  "21.92",
                  "53.97",
                  "230.0",
                  "10.35702",
                  "11.9186514756",
                  "0.0",
                  "1013.9",
                  "10.0",
                  "2013-01-01 00:00:00"
                ],
                [
                  "1",
                  "EWR",
                  "37.04",
                  "21.92",
                  "53.97",
                  "230.0",
                  "13.80936",
                  "15.8915353008",
                  "0.0",
                  "1013.0",
                  "10.0",
                  "2013-01-01 01:00:00"
                ],
                [
                  "2",
                  "EWR",
                  "37.94",
                  "21.92",
                  "52.09",
                  "230.0",
                  "12.65858",
                  "14.5672406924",
                  "0.0",
                  "1012.6",
                  "10.0",
                  "2013-01-01 02:00:00"
                ],
                [
                  "3",
                  "EWR",
                  "37.94",
                  "23.0",
                  "54.51",
                  "230.0",
                  "13.80936",
                  "15.8915353008",
                  "0.0",
                  "1012.7",
                  "10.0",
                  "2013-01-01 03:00:00"
                ],
                [
                  "4",
                  "EWR",
                  "37.94",
                  "24.08",
                  "57.04",
                  "240.0",
                  "14.96014",
                  "17.2158299092",
                  "0.0",
                  "1012.8",
                  "10.0",
                  "2013-01-01 04:00:00"
                ]
              ],
              "shape": {
                "columns": 11,
                "rows": 5
              }
            },
            "text/html": [
              "<div>\n",
              "<style scoped>\n",
              "    .dataframe tbody tr th:only-of-type {\n",
              "        vertical-align: middle;\n",
              "    }\n",
              "\n",
              "    .dataframe tbody tr th {\n",
              "        vertical-align: top;\n",
              "    }\n",
              "\n",
              "    .dataframe thead th {\n",
              "        text-align: right;\n",
              "    }\n",
              "</style>\n",
              "<table border=\"1\" class=\"dataframe\">\n",
              "  <thead>\n",
              "    <tr style=\"text-align: right;\">\n",
              "      <th></th>\n",
              "      <th>origin</th>\n",
              "      <th>temp</th>\n",
              "      <th>dewp</th>\n",
              "      <th>humid</th>\n",
              "      <th>wind_dir</th>\n",
              "      <th>wind_speed</th>\n",
              "      <th>wind_gust</th>\n",
              "      <th>precip</th>\n",
              "      <th>pressure</th>\n",
              "      <th>visib</th>\n",
              "      <th>date</th>\n",
              "    </tr>\n",
              "  </thead>\n",
              "  <tbody>\n",
              "    <tr>\n",
              "      <th>0</th>\n",
              "      <td>EWR</td>\n",
              "      <td>37.04</td>\n",
              "      <td>21.92</td>\n",
              "      <td>53.97</td>\n",
              "      <td>230.0</td>\n",
              "      <td>10.35702</td>\n",
              "      <td>11.918651</td>\n",
              "      <td>0.0</td>\n",
              "      <td>1013.9</td>\n",
              "      <td>10.0</td>\n",
              "      <td>2013-01-01 00:00:00</td>\n",
              "    </tr>\n",
              "    <tr>\n",
              "      <th>1</th>\n",
              "      <td>EWR</td>\n",
              "      <td>37.04</td>\n",
              "      <td>21.92</td>\n",
              "      <td>53.97</td>\n",
              "      <td>230.0</td>\n",
              "      <td>13.80936</td>\n",
              "      <td>15.891535</td>\n",
              "      <td>0.0</td>\n",
              "      <td>1013.0</td>\n",
              "      <td>10.0</td>\n",
              "      <td>2013-01-01 01:00:00</td>\n",
              "    </tr>\n",
              "    <tr>\n",
              "      <th>2</th>\n",
              "      <td>EWR</td>\n",
              "      <td>37.94</td>\n",
              "      <td>21.92</td>\n",
              "      <td>52.09</td>\n",
              "      <td>230.0</td>\n",
              "      <td>12.65858</td>\n",
              "      <td>14.567241</td>\n",
              "      <td>0.0</td>\n",
              "      <td>1012.6</td>\n",
              "      <td>10.0</td>\n",
              "      <td>2013-01-01 02:00:00</td>\n",
              "    </tr>\n",
              "    <tr>\n",
              "      <th>3</th>\n",
              "      <td>EWR</td>\n",
              "      <td>37.94</td>\n",
              "      <td>23.00</td>\n",
              "      <td>54.51</td>\n",
              "      <td>230.0</td>\n",
              "      <td>13.80936</td>\n",
              "      <td>15.891535</td>\n",
              "      <td>0.0</td>\n",
              "      <td>1012.7</td>\n",
              "      <td>10.0</td>\n",
              "      <td>2013-01-01 03:00:00</td>\n",
              "    </tr>\n",
              "    <tr>\n",
              "      <th>4</th>\n",
              "      <td>EWR</td>\n",
              "      <td>37.94</td>\n",
              "      <td>24.08</td>\n",
              "      <td>57.04</td>\n",
              "      <td>240.0</td>\n",
              "      <td>14.96014</td>\n",
              "      <td>17.215830</td>\n",
              "      <td>0.0</td>\n",
              "      <td>1012.8</td>\n",
              "      <td>10.0</td>\n",
              "      <td>2013-01-01 04:00:00</td>\n",
              "    </tr>\n",
              "  </tbody>\n",
              "</table>\n",
              "</div>"
            ],
            "text/plain": [
              "  origin   temp   dewp  humid  wind_dir  wind_speed  wind_gust  precip  \\\n",
              "0    EWR  37.04  21.92  53.97     230.0    10.35702  11.918651     0.0   \n",
              "1    EWR  37.04  21.92  53.97     230.0    13.80936  15.891535     0.0   \n",
              "2    EWR  37.94  21.92  52.09     230.0    12.65858  14.567241     0.0   \n",
              "3    EWR  37.94  23.00  54.51     230.0    13.80936  15.891535     0.0   \n",
              "4    EWR  37.94  24.08  57.04     240.0    14.96014  17.215830     0.0   \n",
              "\n",
              "   pressure  visib                date  \n",
              "0    1013.9   10.0 2013-01-01 00:00:00  \n",
              "1    1013.0   10.0 2013-01-01 01:00:00  \n",
              "2    1012.6   10.0 2013-01-01 02:00:00  \n",
              "3    1012.7   10.0 2013-01-01 03:00:00  \n",
              "4    1012.8   10.0 2013-01-01 04:00:00  "
            ]
          },
          "execution_count": 108,
          "metadata": {},
          "output_type": "execute_result"
        }
      ],
      "source": [
        "# Combine datetime columns\n",
        "\n",
        "df['date'] = pd.to_datetime(\n",
        "    dict(\n",
        "        year=df['year'],\n",
        "        month=df['month'],\n",
        "        day=df['day'],\n",
        "        hour=df['hour']\n",
        "    )\n",
        ")\n",
        "\n",
        "# drop the old datetime columns\n",
        "df.drop(['year', 'month', 'day', 'hour'], axis=1, inplace=True)\n",
        "\n",
        "df.head()\n"
      ]
    },
    {
      "cell_type": "code",
      "execution_count": 109,
      "metadata": {},
      "outputs": [
        {
          "data": {
            "application/vnd.microsoft.datawrangler.viewer.v0+json": {
              "columns": [
                {
                  "name": "date",
                  "rawType": "datetime64[ns]",
                  "type": "datetime"
                },
                {
                  "name": "origin",
                  "rawType": "object",
                  "type": "string"
                },
                {
                  "name": "temp",
                  "rawType": "float64",
                  "type": "float"
                },
                {
                  "name": "dewp",
                  "rawType": "float64",
                  "type": "float"
                },
                {
                  "name": "humid",
                  "rawType": "float64",
                  "type": "float"
                },
                {
                  "name": "wind_dir",
                  "rawType": "float64",
                  "type": "float"
                },
                {
                  "name": "wind_speed",
                  "rawType": "float64",
                  "type": "float"
                },
                {
                  "name": "wind_gust",
                  "rawType": "float64",
                  "type": "float"
                },
                {
                  "name": "precip",
                  "rawType": "float64",
                  "type": "float"
                },
                {
                  "name": "pressure",
                  "rawType": "float64",
                  "type": "float"
                },
                {
                  "name": "visib",
                  "rawType": "float64",
                  "type": "float"
                }
              ],
              "conversionMethod": "pd.DataFrame",
              "ref": "4dcc9b26-397a-4e55-bc4b-d17d0a4d4c58",
              "rows": [
                [
                  "2013-01-01 00:00:00",
                  "EWR",
                  "37.04",
                  "21.92",
                  "53.97",
                  "230.0",
                  "10.35702",
                  "11.9186514756",
                  "0.0",
                  "1013.9",
                  "10.0"
                ],
                [
                  "2013-01-01 01:00:00",
                  "EWR",
                  "37.04",
                  "21.92",
                  "53.97",
                  "230.0",
                  "13.80936",
                  "15.8915353008",
                  "0.0",
                  "1013.0",
                  "10.0"
                ],
                [
                  "2013-01-01 02:00:00",
                  "EWR",
                  "37.94",
                  "21.92",
                  "52.09",
                  "230.0",
                  "12.65858",
                  "14.5672406924",
                  "0.0",
                  "1012.6",
                  "10.0"
                ],
                [
                  "2013-01-01 03:00:00",
                  "EWR",
                  "37.94",
                  "23.0",
                  "54.51",
                  "230.0",
                  "13.80936",
                  "15.8915353008",
                  "0.0",
                  "1012.7",
                  "10.0"
                ],
                [
                  "2013-01-01 04:00:00",
                  "EWR",
                  "37.94",
                  "24.08",
                  "57.04",
                  "240.0",
                  "14.96014",
                  "17.2158299092",
                  "0.0",
                  "1012.8",
                  "10.0"
                ]
              ],
              "shape": {
                "columns": 10,
                "rows": 5
              }
            },
            "text/html": [
              "<div>\n",
              "<style scoped>\n",
              "    .dataframe tbody tr th:only-of-type {\n",
              "        vertical-align: middle;\n",
              "    }\n",
              "\n",
              "    .dataframe tbody tr th {\n",
              "        vertical-align: top;\n",
              "    }\n",
              "\n",
              "    .dataframe thead th {\n",
              "        text-align: right;\n",
              "    }\n",
              "</style>\n",
              "<table border=\"1\" class=\"dataframe\">\n",
              "  <thead>\n",
              "    <tr style=\"text-align: right;\">\n",
              "      <th></th>\n",
              "      <th>origin</th>\n",
              "      <th>temp</th>\n",
              "      <th>dewp</th>\n",
              "      <th>humid</th>\n",
              "      <th>wind_dir</th>\n",
              "      <th>wind_speed</th>\n",
              "      <th>wind_gust</th>\n",
              "      <th>precip</th>\n",
              "      <th>pressure</th>\n",
              "      <th>visib</th>\n",
              "    </tr>\n",
              "    <tr>\n",
              "      <th>date</th>\n",
              "      <th></th>\n",
              "      <th></th>\n",
              "      <th></th>\n",
              "      <th></th>\n",
              "      <th></th>\n",
              "      <th></th>\n",
              "      <th></th>\n",
              "      <th></th>\n",
              "      <th></th>\n",
              "      <th></th>\n",
              "    </tr>\n",
              "  </thead>\n",
              "  <tbody>\n",
              "    <tr>\n",
              "      <th>2013-01-01 00:00:00</th>\n",
              "      <td>EWR</td>\n",
              "      <td>37.04</td>\n",
              "      <td>21.92</td>\n",
              "      <td>53.97</td>\n",
              "      <td>230.0</td>\n",
              "      <td>10.35702</td>\n",
              "      <td>11.918651</td>\n",
              "      <td>0.0</td>\n",
              "      <td>1013.9</td>\n",
              "      <td>10.0</td>\n",
              "    </tr>\n",
              "    <tr>\n",
              "      <th>2013-01-01 01:00:00</th>\n",
              "      <td>EWR</td>\n",
              "      <td>37.04</td>\n",
              "      <td>21.92</td>\n",
              "      <td>53.97</td>\n",
              "      <td>230.0</td>\n",
              "      <td>13.80936</td>\n",
              "      <td>15.891535</td>\n",
              "      <td>0.0</td>\n",
              "      <td>1013.0</td>\n",
              "      <td>10.0</td>\n",
              "    </tr>\n",
              "    <tr>\n",
              "      <th>2013-01-01 02:00:00</th>\n",
              "      <td>EWR</td>\n",
              "      <td>37.94</td>\n",
              "      <td>21.92</td>\n",
              "      <td>52.09</td>\n",
              "      <td>230.0</td>\n",
              "      <td>12.65858</td>\n",
              "      <td>14.567241</td>\n",
              "      <td>0.0</td>\n",
              "      <td>1012.6</td>\n",
              "      <td>10.0</td>\n",
              "    </tr>\n",
              "    <tr>\n",
              "      <th>2013-01-01 03:00:00</th>\n",
              "      <td>EWR</td>\n",
              "      <td>37.94</td>\n",
              "      <td>23.00</td>\n",
              "      <td>54.51</td>\n",
              "      <td>230.0</td>\n",
              "      <td>13.80936</td>\n",
              "      <td>15.891535</td>\n",
              "      <td>0.0</td>\n",
              "      <td>1012.7</td>\n",
              "      <td>10.0</td>\n",
              "    </tr>\n",
              "    <tr>\n",
              "      <th>2013-01-01 04:00:00</th>\n",
              "      <td>EWR</td>\n",
              "      <td>37.94</td>\n",
              "      <td>24.08</td>\n",
              "      <td>57.04</td>\n",
              "      <td>240.0</td>\n",
              "      <td>14.96014</td>\n",
              "      <td>17.215830</td>\n",
              "      <td>0.0</td>\n",
              "      <td>1012.8</td>\n",
              "      <td>10.0</td>\n",
              "    </tr>\n",
              "  </tbody>\n",
              "</table>\n",
              "</div>"
            ],
            "text/plain": [
              "                    origin   temp   dewp  humid  wind_dir  wind_speed  \\\n",
              "date                                                                    \n",
              "2013-01-01 00:00:00    EWR  37.04  21.92  53.97     230.0    10.35702   \n",
              "2013-01-01 01:00:00    EWR  37.04  21.92  53.97     230.0    13.80936   \n",
              "2013-01-01 02:00:00    EWR  37.94  21.92  52.09     230.0    12.65858   \n",
              "2013-01-01 03:00:00    EWR  37.94  23.00  54.51     230.0    13.80936   \n",
              "2013-01-01 04:00:00    EWR  37.94  24.08  57.04     240.0    14.96014   \n",
              "\n",
              "                     wind_gust  precip  pressure  visib  \n",
              "date                                                     \n",
              "2013-01-01 00:00:00  11.918651     0.0    1013.9   10.0  \n",
              "2013-01-01 01:00:00  15.891535     0.0    1013.0   10.0  \n",
              "2013-01-01 02:00:00  14.567241     0.0    1012.6   10.0  \n",
              "2013-01-01 03:00:00  15.891535     0.0    1012.7   10.0  \n",
              "2013-01-01 04:00:00  17.215830     0.0    1012.8   10.0  "
            ]
          },
          "execution_count": 109,
          "metadata": {},
          "output_type": "execute_result"
        }
      ],
      "source": [
        "# If our datetime column is unique we can use it as the index\n",
        "df['date'].duplicated().sum()\n",
        "\n",
        "df.set_index('date', inplace=True)\n",
        "\n",
        "df.head()"
      ]
    },
    {
      "cell_type": "code",
      "execution_count": 110,
      "metadata": {},
      "outputs": [
        {
          "data": {
            "text/plain": [
              "gust_wind_ratio\n",
              "1.15078    5665\n",
              "1.15078    2426\n",
              "Name: count, dtype: int64"
            ]
          },
          "execution_count": 110,
          "metadata": {},
          "output_type": "execute_result"
        }
      ],
      "source": [
        "# What was the biggest out-of-nowhere gust of wind?\n",
        "\n",
        "# Calculate ratio and sort\n",
        "df['gust_wind_ratio'] = df['wind_gust'] / df['wind_speed']\n",
        "df[['wind_gust', 'wind_speed', 'gust_wind_ratio']].sort_values('gust_wind_ratio', ascending=False)\n",
        "\n",
        "# It's all the same???\n",
        "df.gust_wind_ratio.value_counts()\n",
        "\n",
        "# Apparently the authors using some constant value to calculate wind gusts\n"
      ]
    },
    {
      "cell_type": "code",
      "execution_count": 111,
      "metadata": {},
      "outputs": [
        {
          "data": {
            "application/vnd.microsoft.datawrangler.viewer.v0+json": {
              "columns": [
                {
                  "name": "index",
                  "rawType": "object",
                  "type": "string"
                },
                {
                  "name": "precip",
                  "rawType": "float64",
                  "type": "float"
                },
                {
                  "name": "pressure",
                  "rawType": "float64",
                  "type": "float"
                }
              ],
              "conversionMethod": "pd.DataFrame",
              "ref": "e645b307-7608-46c4-bfff-f16231e54f00",
              "rows": [
                [
                  "precip",
                  "1.0",
                  "-0.0524140619444206"
                ],
                [
                  "pressure",
                  "-0.0524140619444206",
                  "1.0"
                ]
              ],
              "shape": {
                "columns": 2,
                "rows": 2
              }
            },
            "text/html": [
              "<div>\n",
              "<style scoped>\n",
              "    .dataframe tbody tr th:only-of-type {\n",
              "        vertical-align: middle;\n",
              "    }\n",
              "\n",
              "    .dataframe tbody tr th {\n",
              "        vertical-align: top;\n",
              "    }\n",
              "\n",
              "    .dataframe thead th {\n",
              "        text-align: right;\n",
              "    }\n",
              "</style>\n",
              "<table border=\"1\" class=\"dataframe\">\n",
              "  <thead>\n",
              "    <tr style=\"text-align: right;\">\n",
              "      <th></th>\n",
              "      <th>precip</th>\n",
              "      <th>pressure</th>\n",
              "    </tr>\n",
              "  </thead>\n",
              "  <tbody>\n",
              "    <tr>\n",
              "      <th>precip</th>\n",
              "      <td>1.000000</td>\n",
              "      <td>-0.052414</td>\n",
              "    </tr>\n",
              "    <tr>\n",
              "      <th>pressure</th>\n",
              "      <td>-0.052414</td>\n",
              "      <td>1.000000</td>\n",
              "    </tr>\n",
              "  </tbody>\n",
              "</table>\n",
              "</div>"
            ],
            "text/plain": [
              "            precip  pressure\n",
              "precip    1.000000 -0.052414\n",
              "pressure -0.052414  1.000000"
            ]
          },
          "execution_count": 111,
          "metadata": {},
          "output_type": "execute_result"
        }
      ],
      "source": [
        "# What's the correlation between pressure and rainfall?\n",
        "\n",
        "df[['precip', 'pressure']].corr()"
      ]
    },
    {
      "cell_type": "code",
      "execution_count": 112,
      "metadata": {},
      "outputs": [
        {
          "data": {
            "application/vnd.microsoft.datawrangler.viewer.v0+json": {
              "columns": [
                {
                  "name": "date",
                  "rawType": "datetime64[ns]",
                  "type": "datetime"
                },
                {
                  "name": "origin",
                  "rawType": "object",
                  "type": "string"
                },
                {
                  "name": "metric",
                  "rawType": "object",
                  "type": "string"
                },
                {
                  "name": "value",
                  "rawType": "float64",
                  "type": "float"
                }
              ],
              "conversionMethod": "pd.DataFrame",
              "ref": "2afc0f89-578e-4311-97ca-73518f6aa096",
              "rows": [
                [
                  "2013-01-01 00:00:00",
                  "EWR",
                  "temp",
                  "37.04"
                ],
                [
                  "2013-01-01 01:00:00",
                  "EWR",
                  "temp",
                  "37.04"
                ],
                [
                  "2013-01-01 02:00:00",
                  "EWR",
                  "temp",
                  "37.94"
                ],
                [
                  "2013-01-01 03:00:00",
                  "EWR",
                  "temp",
                  "37.94"
                ],
                [
                  "2013-01-01 04:00:00",
                  "EWR",
                  "temp",
                  "37.94"
                ]
              ],
              "shape": {
                "columns": 3,
                "rows": 5
              }
            },
            "text/html": [
              "<div>\n",
              "<style scoped>\n",
              "    .dataframe tbody tr th:only-of-type {\n",
              "        vertical-align: middle;\n",
              "    }\n",
              "\n",
              "    .dataframe tbody tr th {\n",
              "        vertical-align: top;\n",
              "    }\n",
              "\n",
              "    .dataframe thead th {\n",
              "        text-align: right;\n",
              "    }\n",
              "</style>\n",
              "<table border=\"1\" class=\"dataframe\">\n",
              "  <thead>\n",
              "    <tr style=\"text-align: right;\">\n",
              "      <th></th>\n",
              "      <th>origin</th>\n",
              "      <th>metric</th>\n",
              "      <th>value</th>\n",
              "    </tr>\n",
              "    <tr>\n",
              "      <th>date</th>\n",
              "      <th></th>\n",
              "      <th></th>\n",
              "      <th></th>\n",
              "    </tr>\n",
              "  </thead>\n",
              "  <tbody>\n",
              "    <tr>\n",
              "      <th>2013-01-01 00:00:00</th>\n",
              "      <td>EWR</td>\n",
              "      <td>temp</td>\n",
              "      <td>37.04</td>\n",
              "    </tr>\n",
              "    <tr>\n",
              "      <th>2013-01-01 01:00:00</th>\n",
              "      <td>EWR</td>\n",
              "      <td>temp</td>\n",
              "      <td>37.04</td>\n",
              "    </tr>\n",
              "    <tr>\n",
              "      <th>2013-01-01 02:00:00</th>\n",
              "      <td>EWR</td>\n",
              "      <td>temp</td>\n",
              "      <td>37.94</td>\n",
              "    </tr>\n",
              "    <tr>\n",
              "      <th>2013-01-01 03:00:00</th>\n",
              "      <td>EWR</td>\n",
              "      <td>temp</td>\n",
              "      <td>37.94</td>\n",
              "    </tr>\n",
              "    <tr>\n",
              "      <th>2013-01-01 04:00:00</th>\n",
              "      <td>EWR</td>\n",
              "      <td>temp</td>\n",
              "      <td>37.94</td>\n",
              "    </tr>\n",
              "  </tbody>\n",
              "</table>\n",
              "</div>"
            ],
            "text/plain": [
              "                    origin metric  value\n",
              "date                                    \n",
              "2013-01-01 00:00:00    EWR   temp  37.04\n",
              "2013-01-01 01:00:00    EWR   temp  37.04\n",
              "2013-01-01 02:00:00    EWR   temp  37.94\n",
              "2013-01-01 03:00:00    EWR   temp  37.94\n",
              "2013-01-01 04:00:00    EWR   temp  37.94"
            ]
          },
          "execution_count": 112,
          "metadata": {},
          "output_type": "execute_result"
        }
      ],
      "source": [
        "# Save a long format version for better storage and visualization\n",
        "\n",
        "long_df = pd.melt(df, id_vars=['origin'], var_name='metric', value_name='value', ignore_index=False)\n",
        "\n",
        "long_df.head()"
      ]
    },
    {
      "cell_type": "markdown",
      "metadata": {
        "id": "tujjevRpXEen"
      },
      "source": [
        "# Conclusions  \n",
        "\n",
        "After exploring your dataset, provide a short summary of what you noticed from this dataset.  What would you explore further with more time?"
      ]
    },
    {
      "cell_type": "code",
      "execution_count": null,
      "metadata": {
        "id": "SshtuQj9XR5_"
      },
      "outputs": [],
      "source": []
    }
  ],
  "metadata": {
    "colab": {
      "include_colab_link": true,
      "name": "07_assignment.ipynb",
      "provenance": []
    },
    "kernelspec": {
      "display_name": ".venv",
      "language": "python",
      "name": "python3"
    },
    "language_info": {
      "codemirror_mode": {
        "name": "ipython",
        "version": 3
      },
      "file_extension": ".py",
      "mimetype": "text/x-python",
      "name": "python",
      "nbconvert_exporter": "python",
      "pygments_lexer": "ipython3",
      "version": "3.13.1"
    }
  },
  "nbformat": 4,
  "nbformat_minor": 0
}
